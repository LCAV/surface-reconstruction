{
 "cells": [
  {
   "cell_type": "code",
   "execution_count": null,
   "metadata": {},
   "outputs": [],
   "source": [
    "import numpy as np\n",
    "import matplotlib.pyplot as plt\n",
    "import matplotlib\n",
    "from unwarping_functions import *"
   ]
  },
  {
   "cell_type": "markdown",
   "metadata": {},
   "source": [
    "## Illustrative Figures\n",
    "This part of the notebook generates illustrative figures of the paper related to unwarping of periodic bandlimitted functions."
   ]
  },
  {
   "cell_type": "code",
   "execution_count": null,
   "metadata": {},
   "outputs": [],
   "source": [
    "# Settings\n",
    "K = 3\n",
    "np.random.seed(10)\n",
    "a = np.random.uniform(-1, 1, 2*K+1); a = (a + a[::-1]) / 2.\n",
    "b = 1.6\n",
    "font_size = 8"
   ]
  },
  {
   "cell_type": "code",
   "execution_count": null,
   "metadata": {},
   "outputs": [],
   "source": [
    "# Example for DIRAChlet\n",
    "# Settings\n",
    "T = 0.5\n",
    "alpha = 2 * np.pi / (2*K+1) * T * b\n",
    "\n",
    "# DIRAChlet\n",
    "theta = np.arange(-K, K+1) * alpha % (2*np.pi)\n",
    "s = np.real(np.sum(np.exp(1j * theta)))\n",
    "print(\"s = \" + str(s))\n",
    "\n",
    "def Y_fun(w):\n",
    "    return np.sin(w * (K+0.5)) / np.sin(w/2.)\n",
    "\n",
    "w = np.linspace(-np.pi, np.pi, 1000)\n",
    "Y = Y_fun(w)\n",
    "fig = plt.figure(figsize=(5, 3))\n",
    "plt.rc('text', usetex=True)\n",
    "plt.rc('font', family='serif')\n",
    "\n",
    "ax = fig.add_subplot(1,1,1)\n",
    "ax.plot(w, Y, label='$D(e^{j\\omega})$', color='b', linewidth=2)\n",
    "ax.axhline(y=s, color='r', linewidth=2, label='$s = ' + str(round(s, 2)) + '$')\n",
    "ax.axhline(y=0, color='k')\n",
    "ax.set_xticks([-np.pi, 0, np.pi])\n",
    "ax.set_xticklabels(['$-\\pi$', '$0$', '$\\pi$'], fontsize=12)\n",
    "ax.set_yticks([-2, 0, 2, 4, 6])\n",
    "ax.set_yticklabels(['$-2$', '$0$', '$2$', '$4$', '$6$'], fontsize=12)\n",
    "ax.set_xlim(-np.pi, np.pi)\n",
    "ax.set_ylim(-2, 7.5)\n",
    "ax.set_xlabel('$\\omega$', fontsize=12)\n",
    "plt.legend(fontsize=12)\n",
    "ax.grid()\n",
    "plt.tight_layout()\n",
    "plt.savefig('dirachlet_s1.pdf', format = 'pdf')\n"
   ]
  },
  {
   "cell_type": "code",
   "execution_count": null,
   "metadata": {},
   "outputs": [],
   "source": [
    "# Envelope\n",
    "\n",
    "w1 = np.linspace(0.001, np.pi, 1000)\n",
    "w2 = np.linspace(.2, np.pi, 1000)\n",
    "Y = Y_fun(w1)\n",
    "\n",
    "fig = plt.figure(figsize=(6, 4.5))\n",
    "ax = fig.add_subplot(111)\n",
    "\n",
    "plt.axhline(y=0, color='k', linewidth=0.75)\n",
    "\n",
    "# curves\n",
    "plt.plot(w1, Y, color='b', label='$D(e^{j\\omega})$')\n",
    "plt.plot(w2, 1/np.sin(w2/2.), color='r', label='$1/\\sin(\\omega/2)$')\n",
    "# alpha_c and alpha_cl lines\n",
    "x_c = 3*np.pi / (2 * K + 1) - 0.575\n",
    "plt.plot([x_c, np.pi], [np.abs(Y_fun(x_c)), np.abs(Y_fun(x_c))], color='k', linestyle='--', linewidth=0.75)\n",
    "plt.plot([x_c, x_c], [0, Y_fun(x_c)], color='k', linewidth=0.75, linestyle='--')\n",
    "plt.plot([x_c], [Y_fun(x_c)], marker='o', color='k', markersize=4)\n",
    "ax.text(x_c, -.55,'$\\\\alpha_c$', fontsize=16)\n",
    "\n",
    "x = 4*np.pi / (2 * K + 1)\n",
    "plt.plot([x], [1 / np.sin(x/2)], marker='x', color='r', markersize=4)\n",
    "plt.plot([x, x], [0, 1 / np.sin(x/2)], color='r', linewidth=0.75, linestyle='--')\n",
    "x = x_c - 0.016\n",
    "plt.plot([x, x], [0, Y_fun(x)], color='r', linewidth=0.75, linestyle='--')\n",
    "plt.plot([x, np.pi], [np.abs(Y_fun(x)), np.abs(Y_fun(x))], color='r', linestyle='--', linewidth=0.75)\n",
    "plt.plot([x], [Y_fun(x)], marker='o', color='r', markersize=4)\n",
    "ax.text(x-.1, -.55,'$\\\\tilde{\\\\alpha}_{c}$', color='r', fontsize=16)\n",
    "\n",
    "ax.set_xticks([0, np.pi])\n",
    "ax.set_xticklabels(['$0$', '$\\pi$'], fontsize=16)\n",
    "ax.set_yticks([])\n",
    "ax.set_yticklabels([])\n",
    "\n",
    "plt.xlabel('$\\omega$', fontsize=16)\n",
    "plt.legend(fontsize=16)\n",
    "plt.ylim((-2, 8))\n",
    "plt.xlim((0, np.pi))\n",
    "plt.tight_layout()\n",
    "plt.savefig('dirachlet_s_envelope.pdf', format='pdf')\n"
   ]
  },
  {
   "cell_type": "code",
   "execution_count": null,
   "metadata": {},
   "outputs": [],
   "source": [
    "# Diracs on circle\n",
    "\n",
    "N = 1000\n",
    "theta_grid = np.linspace(-np.pi, np.pi, N, endpoint=False)\n",
    "x = np.cos(theta_grid)\n",
    "y = np.sin(theta_grid)\n",
    "z = np.zeros(len(theta_grid))\n",
    "\n",
    "np.random.seed(3111111)\n",
    "a = np.random.uniform(-1, 1, 2*K+1); a = (a + a[::-1]) / 2.\n",
    "T = 0.5\n",
    "b = [1, 4, 35/16.0, 7/3.0, 2.5, 14/3., 5]\n",
    "label_distance = 1.18\n",
    "alpha = [2 * np.pi / (2*K+1) * T * _b for _b in b]\n",
    "\n",
    "def periodize_angle(theta):\n",
    "    result = np.array(theta % (2 * np.pi))\n",
    "    idx = result > np.pi\n",
    "    result[idx] -= 2 * np.pi\n",
    "    return result\n",
    "\n",
    "theta_supposed = [np.arange(-K, K+1) * 2 * np.pi / (2*K+1)] + [periodize_angle(np.arange(-K, K+1) * _alpha) for _alpha in alpha]\n",
    "s_list = [round(find_s(theta),2) for theta in theta_supposed[1:]]\n",
    "names = [\"$F(\\omega)$\",\n",
    "         \"$b = 1, \\\\alpha < \\\\alpha_{c}$\",\n",
    "         \"$b = 4, \\\\alpha = \\\\frac{4\\pi}{2K+1}$\",\n",
    "         \"$b = \\\\frac{35}{16}, \\\\alpha_{c} < \\\\alpha < \\\\frac{\\pi}{K}$\",\n",
    "         \"$b = \\\\frac{7}{3}, \\\\alpha = \\\\frac{\\pi}{K}$\",\n",
    "         \"$b = 2.5, \\\\alpha > \\\\frac{\\pi}{K}$\",\n",
    "         \"$b = \\\\frac{14}{3}, \\\\alpha = \\\\frac{2\\pi}{K}$\",\n",
    "         \"$b = 5, \\\\alpha > \\\\frac{\\pi}{K}$\"]\n",
    "names = [names[0]] + [nn + '$, s = ' + str(ss) + '$' for nn, ss in zip(names[1:], s_list)]\n",
    "fig = plt.figure(figsize=(4,6))\n",
    "for i in range(len(theta_supposed)):\n",
    "    ax = fig.add_subplot(4, 2, i+1)\n",
    "    if i == 0:\n",
    "        for j in range(len(theta_supposed[i])):\n",
    "            ax.plot([theta_supposed[i][j], theta_supposed[i][j]], [0, a[j]], 'gray', linewidth=.75)\n",
    "        ax.scatter(theta_supposed[i], a, c=np.arange(0, 2*len(a), 2), s=15, alpha=1)\n",
    "        ax.set_ylim(-1, 1)\n",
    "        ax.set_xlim(-np.pi, np.pi)\n",
    "        ax.set_xticks([-np.pi, 0, np.pi])\n",
    "        ax.set_xticklabels(['$-\\pi$', '$0$', '$\\pi$'], fontsize=font_size)\n",
    "        ax.set_yticks([])\n",
    "        ax.set_yticklabels([], fontsize=font_size)\n",
    "        ax.grid()\n",
    "        ax.axhline(y=0, color='k', linewidth=1)\n",
    "    else:\n",
    "        theta_circle = np.linspace(0, 2*np.pi, 1000, endpoint=False)\n",
    "        ax.plot(np.cos(theta_circle), np.sin(theta_circle), linewidth=0.5, color='black')\n",
    "        ax.scatter(np.cos(theta_supposed[i]), np.sin(theta_supposed[i]), c=np.arange(0, 2*len(a), 2), s=15, alpha=1)\n",
    "        ax.set_xlim(-1.3, 1.3)\n",
    "        ax.set_ylim(-1.3, 1.3)\n",
    "        ax.set_xticks([])\n",
    "        ax.set_yticks([])\n",
    "        ax.axis('equal')\n",
    "        # ax.axis('off')\n",
    "        theta_grid = np.linspace(0, 2*np.pi, 14, endpoint=False)\n",
    "        x_grid = np.cos(theta_grid)\n",
    "        y_grid = np.sin(theta_grid)\n",
    "        ax.text(label_distance, 0, \"0\", ha='center', va='center', fontsize=font_size)\n",
    "        ax.text(-label_distance, 0, \"$\\pi$\", ha='center', va='center', fontsize=font_size)\n",
    "        ax.text(label_distance*np.cos(np.pi/7), label_distance*np.sin(np.pi/7), \"$\\\\frac{\\pi}{7}$\", ha='center', va='center', fontsize=font_size)\n",
    "        for j in range(len(theta_grid)):\n",
    "            ax.plot([0, x_grid[j]], [0, y_grid[j]], '--', linewidth=0.5, color='black')\n",
    "    ax.set_title(label=names[i], fontsize=font_size)\n",
    "plt.tight_layout()\n",
    "plt.savefig('diracsOnCircle.pdf', format='pdf')\n"
   ]
  },
  {
   "cell_type": "markdown",
   "metadata": {},
   "source": [
    "## Simulation Figures\n",
    "This part of the notebook generates simulation figures of the paper related to unwarping of periodic bandlimitted functions."
   ]
  },
  {
   "cell_type": "code",
   "execution_count": null,
   "metadata": {},
   "outputs": [],
   "source": [
    "# load simulation results\n",
    "unique_alpha = np.load('unwarping_simulation_results/noise_vars_unique.npz')\n",
    "lessThanPiK  = np.load('unwarping_simulation_results/noise_vars_non-unique_alpha_lessThanPiK.npz')\n",
    "moreThanPiK  = np.load('unwarping_simulation_results/noise_vars_non-unique_alpha_moreThanPiK.npz')\n",
    "s_0          = np.load('unwarping_simulation_results/noise_vars_non-unique_s_0.npz')\n",
    "change_b     = np.load('unwarping_simulation_results/noise_vars_change_b_parallel.npz')"
   ]
  },
  {
   "cell_type": "code",
   "execution_count": null,
   "metadata": {},
   "outputs": [],
   "source": [
    "var_list = [unique_alpha, lessThanPiK, moreThanPiK, s_0]\n",
    "var_names = np.array([\"$\\\\alpha < \\\\alpha_c$\", \"$\\\\alpha < \\\\frac{\\\\pi}{K}$\", \"$\\\\alpha > \\\\frac{\\\\pi}{K}$\", \"$\\\\alpha = \\\\frac{2\\\\pi}{2K+1}$\"])\n",
    "linestyles = ['-.', '-', '--', ':']"
   ]
  },
  {
   "cell_type": "code",
   "execution_count": null,
   "metadata": {},
   "outputs": [],
   "source": [
    "b_error_closest_b = np.zeros((len(var_list), len(var_list[1]['SNR'])))\n",
    "b_error_closest_h_n = np.zeros((len(var_list), len(var_list[1]['SNR'])))\n",
    "h_error_closest_b = np.zeros((len(var_list), len(var_list[1]['SNR'])))\n",
    "h_error_closest_h_n = np.zeros((len(var_list), len(var_list[1]['SNR'])))\n",
    "zero_sol_cases = np.zeros((len(var_list), len(var_list[1]['SNR'])))\n",
    "multiple_sol_cases = np.zeros((len(var_list), len(var_list[1]['SNR'])))\n",
    "SNR = var_list[1]['SNR']\n",
    "iter_max = var_list[1]['iter_max']"
   ]
  },
  {
   "cell_type": "code",
   "execution_count": null,
   "metadata": {},
   "outputs": [],
   "source": [
    "for ind, var in enumerate(var_list):\n",
    "    b_error_closest_b[ind, :] = var['b_error_closest_b']\n",
    "    b_error_closest_h_n[ind, :] = var['b_error_closest_h_n']\n",
    "    h_error_closest_b[ind, :] = var['h_error_closest_b']\n",
    "    h_error_closest_h_n[ind, :] = var['h_error_closest_h_n']\n",
    "    zero_sol_cases[ind, :] = var['zero_sol_cases']\n",
    "    multiple_sol_cases[ind, :] = var['multiple_sol_cases']"
   ]
  },
  {
   "cell_type": "code",
   "execution_count": null,
   "metadata": {},
   "outputs": [],
   "source": [
    "print(\"a = \" + str(np.round(var_list[1]['a_orig'], 2)))\n",
    "print(\"b = \" + str(np.round(var_list[1]['b_orig'], 2)))"
   ]
  },
  {
   "cell_type": "code",
   "execution_count": null,
   "metadata": {},
   "outputs": [],
   "source": [
    "matplotlib.rcParams.update({'font.size': 8})\n",
    "idx = np.logical_and(SNR <= 40, SNR >= -10)"
   ]
  },
  {
   "cell_type": "code",
   "execution_count": null,
   "metadata": {},
   "outputs": [],
   "source": [
    "plt.figure(figsize=(5, 2.5))\n",
    "plt.rc('text', usetex=True)\n",
    "plt.rc('font', family='serif')\n",
    "for i in range(len(var_list)):\n",
    "    plt.plot(SNR[idx], b_error_closest_b[i, idx], linestyles[i], label=var_names[i])\n",
    "plt.xlabel('SNR [dB]')\n",
    "plt.grid()\n",
    "plt.legend(loc=1, fontsize=10)\n",
    "plt.yscale('log')\n",
    "plt.tight_layout()\n",
    "plt.savefig('b_error_closest_b_all.pdf')"
   ]
  },
  {
   "cell_type": "code",
   "execution_count": null,
   "metadata": {},
   "outputs": [],
   "source": [
    "plt.figure(figsize=(5, 2.5))\n",
    "for i in range(len(var_list)):\n",
    "    plt.plot(SNR[idx], h_error_closest_h_n[i, idx], linestyles[i], label=var_names[i])\n",
    "plt.xlabel('SNR [dB]')\n",
    "plt.grid()\n",
    "plt.legend(loc=3, fontsize=10)\n",
    "plt.yscale('log')\n",
    "plt.tight_layout()\n",
    "plt.savefig('h_error_closest_h_n_all.pdf')"
   ]
  },
  {
   "cell_type": "code",
   "execution_count": null,
   "metadata": {},
   "outputs": [],
   "source": [
    "plt.figure(figsize=(5, 2.5))\n",
    "for i in range(len(var_list)):\n",
    "    plt.plot(SNR[idx], multiple_sol_cases[i, idx] / 1. / iter_max * 100, linestyles[i], label=var_names[i])\n",
    "plt.xlabel('SNR [dB]')\n",
    "plt.grid()\n",
    "plt.legend(loc='best', fontsize=10)\n",
    "plt.tight_layout()\n",
    "plt.savefig('multiple_sol_cases_all.pdf')"
   ]
  },
  {
   "cell_type": "code",
   "execution_count": null,
   "metadata": {},
   "outputs": [],
   "source": [
    "plt.figure(figsize=(5, 2.5))\n",
    "for i in range(len(var_list)):\n",
    "    plt.plot(SNR[idx], 100 - (multiple_sol_cases[i, idx] + zero_sol_cases[i, idx]) / 1. / iter_max * 100, linestyles[i], label=var_names[i])\n",
    "plt.xlabel('SNR [dB]')\n",
    "plt.grid()\n",
    "plt.legend(loc='best', fontsize=10)\n",
    "plt.tight_layout()\n",
    "plt.savefig('single_sol_cases_all.pdf')"
   ]
  },
  {
   "cell_type": "code",
   "execution_count": null,
   "metadata": {},
   "outputs": [],
   "source": [
    "h_error_closest_h_n = change_b['h_error_closest_h_n']\n",
    "SNR = change_b['SNR']\n",
    "b_list = change_b['b_list']\n",
    "linestyles = [(0, (1, 5)),\n",
    "              (0, (5, 5)),\n",
    "              (0, ()),\n",
    "              (0, (3, 5, 1, 5)),\n",
    "              (0, (3, 5, 1, 5, 1, 5))]\n",
    "\n",
    "plt.figure(figsize=(5, 2.5))\n",
    "plt.rc('text', usetex=True)\n",
    "plt.rc('font', family='serif')\n",
    "for i in range(h_error_closest_h_n.shape[0]):\n",
    "    plt.plot(SNR, h_error_closest_h_n[i, :], linestyle=linestyles[i], label='$b = ' + str(np.round(b_list[i], 2)) + '$')\n",
    "plt.xlabel('SNR')\n",
    "plt.grid()\n",
    "plt.yscale('log')\n",
    "plt.legend(loc='best')\n",
    "plt.tight_layout()\n",
    "plt.savefig('h_error_closest_h_n_change_b_parallel.pdf')"
   ]
  },
  {
   "cell_type": "code",
   "execution_count": null,
   "metadata": {},
   "outputs": [],
   "source": []
  }
 ],
 "metadata": {
  "kernelspec": {
   "display_name": "Python 3 (ipykernel)",
   "language": "python",
   "name": "python3"
  },
  "language_info": {
   "codemirror_mode": {
    "name": "ipython",
    "version": 3
   },
   "file_extension": ".py",
   "mimetype": "text/x-python",
   "name": "python",
   "nbconvert_exporter": "python",
   "pygments_lexer": "ipython3",
   "version": "3.9.7"
  }
 },
 "nbformat": 4,
 "nbformat_minor": 2
}
