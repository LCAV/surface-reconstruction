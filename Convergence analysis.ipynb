{
 "cells": [
  {
   "cell_type": "code",
   "execution_count": null,
   "metadata": {
    "collapsed": true
   },
   "outputs": [],
   "source": [
    "import numpy as np\n",
    "from os import listdir\n",
    "import matplotlib.pyplot as plt\n",
    "from signals import *\n",
    "from plots import *\n",
    "from samplers import *\n",
    "from pylab import rcParams\n",
    "rcParams['figure.figsize'] = 5, 2.5"
   ]
  },
  {
   "cell_type": "code",
   "execution_count": null,
   "metadata": {
    "collapsed": true
   },
   "outputs": [],
   "source": [
    "# listdir(\"offline_results/\")"
   ]
  },
  {
   "cell_type": "code",
   "execution_count": null,
   "metadata": {
    "collapsed": false
   },
   "outputs": [],
   "source": [
    "param = np.pi/18\n",
    "generate_plots(5, 1, 0, 2*param)\n",
    "plt.show()"
   ]
  },
  {
   "cell_type": "code",
   "execution_count": null,
   "metadata": {
    "collapsed": false
   },
   "outputs": [],
   "source": [
    "p = np.array([1.000000000000000000e+00,-2.825421682312351468e+00,-2.022133420929154990e-01,-1.483193386636804334e+00,-2.063111012904942587e+00,5.638963672080870015e-01,-3.154727063937948994e+00,1.396869864645395032e-01,-2.631363077020359764e+00,3.202233789725539292e+00])       \n",
    "\n",
    "pol = SecondSurfacePolynomial(p)\n",
    "t = np.linspace(-1,1, 100)\n",
    "plt.plot(t, pol.get_samples(t), 'g', label=\"true\")\n",
    "sampler = SurfaceSampler(pol, 2*len(p), [param, 1, 1], interval_length=2, sigma=0.0, beg=-1)\n",
    "plt.stem(pol.shifted_positions(sampler.sample_positions,[param, 1, 1]), sampler.sample_values, 'go', label=\"true samples\")\n",
    "plt.stem(sampler.sample_positions, sampler.sample_values, 'bo', label=\"samples given\")\n",
    "plt.stem(pol.shifted_positions(sampler.sample_positions,[0.05, 1, 1]), sampler.sample_values, 'ro', label=\"converged to\")\n",
    "plt.legend(loc=3)\n",
    "plt.show()"
   ]
  },
  {
   "cell_type": "code",
   "execution_count": null,
   "metadata": {
    "collapsed": false
   },
   "outputs": [],
   "source": [
    "f1, f2 = generate_plots(7, 1, 1, np.degrees(2*param))\n",
    "plt.title(\"evolution of error over time, degree 7, with noise\")\n",
    "f1.savefig(\"pol_iter_params.pdf\")\n",
    "f2.savefig(\"pol_iter_erros.pdf\")\n",
    "plt.show()"
   ]
  },
  {
   "cell_type": "code",
   "execution_count": null,
   "metadata": {
    "collapsed": false
   },
   "outputs": [],
   "source": [
    "generate_plots(7, 1, 0, 2*param)\n",
    "plt.show()"
   ]
  }
 ],
 "metadata": {
  "kernelspec": {
   "display_name": "Python 3",
   "language": "python",
   "name": "python3"
  },
  "language_info": {
   "codemirror_mode": {
    "name": "ipython",
    "version": 3
   },
   "file_extension": ".py",
   "mimetype": "text/x-python",
   "name": "python",
   "nbconvert_exporter": "python",
   "pygments_lexer": "ipython3",
   "version": "3.6.4"
  }
 },
 "nbformat": 4,
 "nbformat_minor": 1
}
