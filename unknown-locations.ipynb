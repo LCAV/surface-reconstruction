{
 "cells": [
  {
   "cell_type": "markdown",
   "metadata": {},
   "source": [
    "# Plots for the chapter on unknown locations"
   ]
  },
  {
   "cell_type": "code",
   "execution_count": null,
   "metadata": {
    "collapsed": false
   },
   "outputs": [],
   "source": [
    "from plots import *\n",
    "from matplotlib import pylab\n",
    "from pylab import rcParams\n",
    "rcParams['figure.figsize'] = 5, 3"
   ]
  },
  {
   "cell_type": "code",
   "execution_count": null,
   "metadata": {
    "collapsed": false
   },
   "outputs": [],
   "source": [
    "def one_point(start_param, sample_value, color, index=0):\n",
    "    change = np.zeros(start_param.shape)\n",
    "    change[-1]=-sample_value\n",
    "    r = np.roots(start_param+change)\n",
    "    stem_results([r[index]],[sample_value], color)"
   ]
  },
  {
   "cell_type": "code",
   "execution_count": null,
   "metadata": {
    "collapsed": false
   },
   "outputs": [],
   "source": [
    "pylab.ion()\n",
    "fig, ax = pylab.subplots()\n",
    "start_param = np.array([6, -10, 5, 0.5])\n",
    "# start_param = np.array([2, -1, 1])\n",
    "sample_values = [0.7,1.2,1.2,1.2]\n",
    "polynomial = SignalPolynomial(start_param)\n",
    "plot_results(polynomial, 'k', lw=1)\n",
    "\n",
    "changes = np.array([1, -1.6, 0.6, 0])\n",
    "changes = 3*changes\n",
    "plot_results(SignalPolynomial( changes), 'k', lw=1, ls='--')\n",
    "ax.axhline(y=0, color='k')\n",
    "\n",
    "rts = np.roots([18,-20,5])\n",
    "for r in rts:\n",
    "    ax.axvline(x=r, color='k', ls='-.')\n",
    "    \n",
    "pylab.legend([\"$f(t)$\", \"$g(t)$\"], loc=5)\n",
    "pylab.xlabel(\"$t$\", fontsize=14)\n",
    "\n",
    "\n",
    "pylab.ioff()\n",
    "pylab.show()"
   ]
  },
  {
   "cell_type": "code",
   "execution_count": null,
   "metadata": {
    "collapsed": false
   },
   "outputs": [],
   "source": [
    "pylab.ion()\n",
    "fig, ax = pylab.subplots()\n",
    "plot_results(polynomial, 'k', lw=1, ls='-')\n",
    "changes = np.array([1, -1.7, 0.7, 0])\n",
    "changes = 3*changes\n",
    "new_param = start_param + changes\n",
    "plot_results(SignalPolynomial(new_param), 'k', lw=1, ls='--')\n",
    "plot_results(SignalPolynomial( changes), 'k', lw=1, ls='-.')\n",
    "\n",
    "one_point(new_param, sample_values[3], 'r', 0)\n",
    "one_point(new_param, sample_values[2], 'g', 1)\n",
    "one_point(new_param, sample_values[1], 'c', 2)\n",
    "one_point(new_param, sample_values[0], 'b', 2)\n",
    "\n",
    "one_point(start_param, sample_values[3], 'r', 0)\n",
    "one_point(start_param, sample_values[2], 'g', 1)\n",
    "one_point(start_param, sample_values[1], 'c', 2)\n",
    "one_point(start_param, sample_values[0], 'b', 2)\n",
    "\n",
    "ax.axhline(y=0, color='k')\n",
    "ax.axvline(x=0, color='k')\n",
    "\n",
    "pylab.legend([\"$f(t)$\", \"$f(t) + g(t)$\", \"g(t)\"], loc=5)\n",
    "pylab.xlabel(\"$t$\", fontsize=14)\n",
    "pylab.ylim(-0.2,1.6)\n",
    "pylab.xlim(0,1)\n",
    "\n",
    "pylab.ioff()\n",
    "pylab.show()"
   ]
  },
  {
   "cell_type": "code",
   "execution_count": null,
   "metadata": {
    "collapsed": false
   },
   "outputs": [],
   "source": [
    "pylab.ion()\n",
    "\n",
    "\n",
    "\n",
    "# one_point(start_param, sample_values[3], 'r', 0)\n",
    "# one_point(start_param, sample_values[2], 'g', 1)\n",
    "# one_point(start_param, sample_values[1], 'c', 2)\n",
    "# one_point(start_param, sample_values[0], 'b', 2)\n",
    "    \n",
    "pylab.ioff()\n",
    "pylab.show()"
   ]
  },
  {
   "cell_type": "code",
   "execution_count": null,
   "metadata": {
    "collapsed": false
   },
   "outputs": [],
   "source": [
    "import itertools\n",
    "from matplotlib import cm\n",
    "\n",
    "pol = SignalPolynomial(start_param)\n",
    "pylab.show()\n",
    "alpha = np.linspace(0,5)\n",
    "colors = itertools.cycle([\"b\", \"c\", \"g\", \"r\"])\n",
    "grays = itertools.cycle(['0.0','0.1','0.2','0.3','0.4'])\n",
    "sample_positions = [0.2,0.4,0.6,0.8]\n",
    "\n",
    "pylab.ion()\n",
    "plot_results(pol,color='k')\n",
    "for s in sample_positions:\n",
    "    stem_results([s],[pol.get_samples(s)],color=next(colors))\n",
    "pylab.gcf().subplots_adjust(bottom=0.15)\n",
    "# pylab.ylabel(r'$\\alpha$',fontsize=20)\n",
    "pylab.xlabel(r'$t$',fontsize=20)\n",
    "pylab.xlim(0,1)\n",
    "\n",
    "pylab.legend([\"$f(t)$\"], loc=5)\n",
    "pylab.ioff()\n",
    "pylab.show()\n",
    "\n",
    "pylab.ion()\n",
    "for s in sample_positions:\n",
    "    print(pol.get_samples(s))\n",
    "    p = pol.path(s,0.1*changes)\n",
    "    pylab.plot(p,alpha,lw=1,color=next(colors))\n",
    "pylab.gcf().subplots_adjust(bottom=0.15)\n",
    "pylab.ylabel(r'$\\alpha$',fontsize=15)\n",
    "pylab.xlabel(r'$t$',fontsize=15)\n",
    "pylab.xlim(0,1)\n",
    "\n",
    "# pylab.legend([\"sample 1\", \"sample 2\", \"sample 3\", \"sample 4\"], loc=5)\n",
    "pylab.ioff()\n",
    "pylab.show()"
   ]
  },
  {
   "cell_type": "code",
   "execution_count": null,
   "metadata": {
    "collapsed": false
   },
   "outputs": [],
   "source": [
    "import matplotlib.pyplot as plt\n",
    "from mpl_toolkits.mplot3d import Axes3D\n",
    "fig = plt.figure(figsize=(10, 6))\n",
    "\n",
    "ax = fig.add_subplot(111, projection='3d')\n",
    "t = np.linspace(0, 1, 100)\n",
    "pol = SignalPolynomial(start_param)\n",
    "z = pol.get_samples(t)\n",
    "ax.plot(t, np.zeros_like(t), z, 'k')\n",
    "ax.legend()\n",
    "\n",
    "sample_values = pol.get_samples(sample_positions)\n",
    "\n",
    "for s,v in zip(sample_positions, sample_values):\n",
    "    color = next(colors)\n",
    "    pol = SignalPolynomial(start_param)\n",
    "    p = pol.path(s,0.1*changes)\n",
    "    ax.plot(p,alpha,v*np.ones_like(alpha),lw=1,color=color)\n",
    "    ax.scatter(p[0::10],alpha[0::10],v*np.ones(5),lw=1,color=color)\n",
    "    \n",
    "for i in range(5):\n",
    "    pol2 = SignalPolynomial(start_param+i*changes)\n",
    "    z = pol2.get_samples(t)\n",
    "    ax.plot(t, np.ones_like(t)*i, z,next(grays))\n",
    "\n",
    "ax.view_init(30, -100)\n",
    "plt.show()"
   ]
  },
  {
   "cell_type": "code",
   "execution_count": null,
   "metadata": {
    "collapsed": true
   },
   "outputs": [],
   "source": []
  },
  {
   "cell_type": "code",
   "execution_count": null,
   "metadata": {
    "collapsed": true
   },
   "outputs": [],
   "source": []
  }
 ],
 "metadata": {
  "anaconda-cloud": {},
  "kernelspec": {
   "display_name": "Python 3",
   "language": "python",
   "name": "python3"
  },
  "language_info": {
   "codemirror_mode": {
    "name": "ipython",
    "version": 3
   },
   "file_extension": ".py",
   "mimetype": "text/x-python",
   "name": "python",
   "nbconvert_exporter": "python",
   "pygments_lexer": "ipython3",
   "version": "3.6.4"
  }
 },
 "nbformat": 4,
 "nbformat_minor": 0
}
