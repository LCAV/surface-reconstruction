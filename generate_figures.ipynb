{
 "cells": [
  {
   "cell_type": "markdown",
   "metadata": {},
   "source": [
    "# Sumarised results from numerical experiments"
   ]
  },
  {
   "cell_type": "code",
   "execution_count": null,
   "metadata": {
    "collapsed": true
   },
   "outputs": [],
   "source": [
    "import numpy as np\n",
    "from os import listdir\n",
    "import matplotlib.pyplot as plt\n",
    "from signals import *\n",
    "from plots import *\n",
    "from samplers import *\n",
    "from pylab import rcParams\n",
    "rcParams['figure.figsize'] = 5, 2.5\n",
    "from matplotlib.ticker import FormatStrFormatter, MultipleLocator"
   ]
  },
  {
   "cell_type": "code",
   "execution_count": null,
   "metadata": {
    "collapsed": false
   },
   "outputs": [],
   "source": [
    "signal = SignalExp([-0.3, 0.5, -0.1, 1])\n",
    "change = 0.5*np.array([0, 1, 0, 0])\n",
    "new_signal = SignalExp(signal.parameters + change)\n",
    "alpha = np.linspace(0, 5)\n",
    "t = np.linspace(0, 2*np.pi, 100)\n",
    "sample_pos = np.multiply([0.3, 0.5, 0.7, 0.9, 1.1, 1.3, 1.5, 1.7], np.pi)\n",
    "\n",
    "fig, ax = plt.subplots(1)\n",
    "ax.plot(t/np.pi, signal.get_samples(t), \"C1\", label=\"original\")\n",
    "sample_val = signal.get_samples(sample_pos)\n",
    "ax.stem(sample_pos/np.pi, sample_val,  linefmt=\"C1\", markerfmt=\"C1o\")\n",
    "\n",
    "new_pos = []\n",
    "new_vals = []\n",
    "for s in sample_pos:\n",
    "    p = signal.path(s, change, n=10)\n",
    "    new_pos.append(np.copy(p[len(p)-1]))\n",
    "    \n",
    "new_pos = np.array(new_pos)\n",
    "\n",
    "ax.plot(t/np.pi, new_signal.get_samples(t), \"--C0\", label=\"perturbed\")\n",
    "ax.stem(new_pos/np.pi, new_signal.get_samples(new_pos), linefmt=\"--C0\")\n",
    "ax.axhline(0, c='k')\n",
    "plt.ylabel(r\"$f(x)$\")\n",
    "plt.legend()\n",
    "ax.xaxis.set_major_formatter(FormatStrFormatter('%g $\\pi$'))\n",
    "ax.xaxis.set_major_locator(MultipleLocator(base=1.0))\n",
    "plt.tight_layout()\n",
    "fig.savefig('shifting.pdf')\n",
    "plt.show()"
   ]
  },
  {
   "cell_type": "code",
   "execution_count": null,
   "metadata": {
    "collapsed": false
   },
   "outputs": [],
   "source": [
    "changes = np.array([1, -1.7, 0.7, 0])\n",
    "changes = 3*changes\n",
    "\n",
    "start_param = np.array([6, -10, 5, 0.5])\n",
    "sample_values = [0.7,1.2,1.2,1.2]\n",
    "polynomial = SignalPolynomial(start_param)\n",
    "\n",
    "import itertools\n",
    "from matplotlib import cm\n",
    "\n",
    "pol = SignalPolynomial(start_param)\n",
    "alpha = np.linspace(0,5)\n",
    "colors = itertools.cycle([\"b\", \"c\", \"g\", \"r\"])\n",
    "grays = itertools.cycle(['0.0','0.1','0.2','0.3','0.4'])\n",
    "sample_positions = [0.2,0.4,0.6,0.8]\n",
    "\n",
    "\n",
    "import matplotlib.pyplot as plt\n",
    "from mpl_toolkits.mplot3d import Axes3D\n",
    "fig = plt.figure(figsize=(10, 6))\n",
    "\n",
    "ax = fig.add_subplot(111, projection='3d')\n",
    "t = np.linspace(0, 1, 100)\n",
    "pol = SignalPolynomial(start_param)\n",
    "z = pol.get_samples(t)\n",
    "ax.plot(t, np.zeros_like(t), z, 'k')\n",
    "\n",
    "sample_values = pol.get_samples(sample_positions)\n",
    "\n",
    "for s,v in zip(sample_positions, sample_values):\n",
    "    color = next(colors)\n",
    "    pol = SignalPolynomial(start_param)\n",
    "    p = pol.path(s,0.1*changes)\n",
    "    ax.plot(p,alpha,v*np.ones_like(alpha),lw=1,color=color)\n",
    "    ax.scatter(p[0::10],alpha[0::10],v*np.ones(5),lw=1,color=color)\n",
    "    \n",
    "for i in range(5):\n",
    "    pol2 = SignalPolynomial(start_param+i*changes)\n",
    "    z = pol2.get_samples(t)\n",
    "    ax.plot(t, np.ones_like(t)*i, z,next(grays))\n",
    "\n",
    "ax.view_init(30, -100)\n",
    "plt.show()"
   ]
  },
  {
   "cell_type": "code",
   "execution_count": null,
   "metadata": {
    "collapsed": false
   },
   "outputs": [],
   "source": [
    "param = np.pi/18\n",
    "\n",
    "p = np.array([1.000000000000000000e+00,-2.825421682312351468e+00,-2.022133420929154990e-01,\n",
    "              -1.483193386636804334e+00,-2.063111012904942587e+00,5.638963672080870015e-01,\n",
    "              -3.154727063937948994e+00,1.396869864645395032e-01,-2.631363077020359764e+00,\n",
    "              3.202233789725539292e+00])       \n",
    "pol = SecondSurfacePolynomial(p)\n",
    "t = np.linspace(-1,1, 100)\n",
    "sampler = SurfaceSampler(pol, 2*len(p), [param, 1, 1], interval_length=2, sigma=0.0, beg=-1)\n",
    "\n",
    "err1 = []\n",
    "values = sampler.sample_values + 1e-2*np.random.randn(len(sampler.sample_values))\n",
    "print(len(values))\n",
    "angles = np.linspace(-np.pi/4.5, np.pi/4.5, 900)\n",
    "for a in angles:\n",
    "    err1.append(known_error(sampler.sample_positions, len(p), [a, 1, 1], values))\n",
    "\n",
    "err = []\n",
    "values = sampler.sample_values\n",
    "angles = np.linspace(-np.pi/4.5, np.pi/4.5, 900)\n",
    "for a in angles:\n",
    "    err.append(known_error(sampler.sample_positions, len(p), [a, 1, 1], values))\n",
    "    \n",
    "fig = plt.figure()\n",
    "plt.semilogy(np.degrees(angles), err)\n",
    "# plt.semilogy(np.degrees(angles), err1)\n",
    "plt.xlabel(\"angle (in degrees)\")\n",
    "plt.ylabel(\"cost function\")\n",
    "plt.title(\"no noise, pol. degree: 9, true angle: \"+str(np.degrees(param)))\n",
    "plt.grid()\n",
    "plt.tight_layout()\n",
    "plt.show()\n",
    "fig.savefig(\"non_convex.pdf\")"
   ]
  },
  {
   "cell_type": "markdown",
   "metadata": {},
   "source": [
    "To generate experiment results, run for example:\n",
    "\n",
    "`exec(open(\"surface-tests.py\").read())`\n",
    "\n",
    "This notebook only reads the results from files and generates plots."
   ]
  },
  {
   "cell_type": "code",
   "execution_count": null,
   "metadata": {
    "collapsed": true
   },
   "outputs": [],
   "source": [
    "# listdir()"
   ]
  },
  {
   "cell_type": "code",
   "execution_count": null,
   "metadata": {
    "collapsed": false,
    "scrolled": true
   },
   "outputs": [],
   "source": [
    "# results = np.empty((2,4,10))\n",
    "all_errors = np.zeros((4,11,100*13))\n",
    "\n",
    "max_degree = 10\n",
    "\n",
    "for n in range(3,max_degree):\n",
    "    for nl in [0,1,2,3]:\n",
    "        code1 = str(n)+\"_1_\"+str(nl)\n",
    "        code2 = str(n)+\"_1_\"+\"{0:.2f}\".format(nl)\n",
    "#         nsr = np.load('nsr_'+code+'.npy')\n",
    "        try:\n",
    "            errors = np.load('results/errors_'+code1+'.npy')\n",
    "        except:\n",
    "            errors = np.load('results/errors_'+code2+'.npy')\n",
    "#         params = np.load('params_'+code+'.npy')\n",
    "#         results[0,nl,n] = np.degrees(np.percentile(errors, q=50))\n",
    "#         results[1,nl,n] = np.degrees(np.percentile(errors, q=95))\n",
    "        errors = errors.flatten()\n",
    "        all_errors[nl,n,:] = errors\n",
    "\n",
    "all_errors = my_degrees(all_errors)\n",
    "if np.isnan(all_errors).any():\n",
    "    print(\"We have NaNs :(\")\n",
    "    print(str(np.count_nonzero(np.isnan(all_errors))))\n",
    "all_errors[np.isnan(all_errors)]=20"
   ]
  },
  {
   "cell_type": "code",
   "execution_count": null,
   "metadata": {
    "collapsed": false
   },
   "outputs": [],
   "source": [
    "flierprops1 = dict(marker='+', markeredgecolor='purple')\n",
    "medianprops1 = dict(linewidth=2.5, color='purple')\n",
    "gp1 = dict(color='black')\n",
    "flierprops2 = dict(marker='+', markeredgecolor='green')\n",
    "medianprops2 = dict(linewidth=2.5, color='green')\n",
    "gp2 = dict(color='gray', markeredgecolor='grayt')\n",
    "\n",
    "fig = plt.figure()\n",
    "ax = fig.add_subplot(1,1,1)\n",
    "ax.boxplot(all_errors[0,2:max_degree-1,:].T, whis=[0, 100], flierprops=flierprops1, medianprops=medianprops1, boxprops=gp1, whiskerprops=gp1)\n",
    "ax.boxplot(all_errors[2,2:max_degree-1,:].T, whis=[0, 100], flierprops=flierprops2, medianprops=medianprops2, boxprops=gp2, whiskerprops=gp2)\n",
    "ax.set_yscale('log')\n",
    "plt.xticks(range(1,max_degree-1),range(3,max_degree))\n",
    "plt.xlabel(\"degree\")\n",
    "plt.ylabel(\"error\")\n",
    "plt.grid()\n",
    "plt.tight_layout()\n",
    "plt.show()\n",
    "fig.savefig('degree.pdf')\n"
   ]
  },
  {
   "cell_type": "code",
   "execution_count": null,
   "metadata": {
    "collapsed": false
   },
   "outputs": [],
   "source": [
    "fig, ax = plt.subplots()\n",
    "ax.set_yscale('log')\n",
    "ind = np.arange(2,max_degree-1)\n",
    "width = 0.4\n",
    "rects1 = ax.bar(ind+(width/2), np.median(all_errors[3,3:max_degree,:],1), width, bottom=1e-14, color=\"C0\", edgecolor='w', hatch=\"///\")\n",
    "rects2 = ax.bar(ind-(width/2), np.median(all_errors[0,3:max_degree,:],1), width, bottom=1e-14, color=\"C1\")\n",
    "# plt.bar(list(range(2,max_degree-1)), np.median(all_errors[0,3:max_degree,:],1), bottom=1e-14)\n",
    "plt.xlabel(\"degree of polynomial\")\n",
    "plt.ylabel(\"median error\")\n",
    "plt.legend([\"SNR 80dB\", \"no noise\"], loc=6)\n",
    "plt.grid()\n",
    "plt.tight_layout()\n",
    "plt.show()\n",
    "fig.savefig('degree_bar.pdf')"
   ]
  },
  {
   "cell_type": "code",
   "execution_count": null,
   "metadata": {
    "collapsed": false
   },
   "outputs": [],
   "source": [
    "fig = plt.figure()\n",
    "plt.hist(all_errors[0,5,:],  bins=np.logspace(-16, 2, 50), edgecolor='w')\n",
    "print(np.count_nonzero(all_errors[0,5,:] > 1e-10)/len(all_errors[0,5,:]))\n",
    "print(np.mean(all_errors[0,5,:]))\n",
    "# plt.yscale('log', nonposy='clip')\n",
    "plt.xscale('log', nonposx='clip')\n",
    "plt.title(\"errors for pol. of degree 4\")\n",
    "plt.xlabel(\"error (in degrees)\")\n",
    "plt.grid()\n",
    "plt.tight_layout()\n",
    "plt.show()\n",
    "fig.savefig('two_modes.pdf')"
   ]
  },
  {
   "cell_type": "code",
   "execution_count": null,
   "metadata": {
    "collapsed": false
   },
   "outputs": [],
   "source": [
    "a = np.linspace(-20,20, 13)\n",
    "\n",
    "fig2, ax2 = plt.subplots()\n",
    "angle_err = all_errors[0,3:10,:]\n",
    "angle_err_med = np.median(angle_err.reshape((700, 13)),0)\n",
    "ax2.semilogy(a, angle_err_med, 'C0--', label=\"no noise\")\n",
    "ax2.set_xlabel('angle')\n",
    "plt.title(\"error dependence on the angle\")\n",
    "\n",
    "# ax3 = ax2.twinx()\n",
    "ax3 = ax2\n",
    "angle_err = all_errors[3,3:10,:]\n",
    "angle_err_med = np.median(angle_err.reshape((700, 13)),0)\n",
    "ax3.semilogy(a, angle_err_med, 'C1-', label='SNR ~ 80dB')\n",
    "ax2.grid()\n",
    "plt.legend()\n",
    "plt.tight_layout()\n",
    "fig2.savefig(\"angle.pdf\")\n",
    "    \n",
    "# plt.plot(a, np.abs(a))\n",
    "plt.show()"
   ]
  },
  {
   "cell_type": "code",
   "execution_count": null,
   "metadata": {
    "collapsed": true
   },
   "outputs": [],
   "source": [
    "results = np.empty((2,4,5,5))\n",
    "all_errors = np.empty((4,5,5,100*13))\n",
    "all_nsr = np.empty((4,5,5,100*13))\n",
    "\n",
    "for (overs, idx) in zip([1,2,4,8], range(4)):\n",
    "    for n in range(4,5):\n",
    "        for nl in range(5):\n",
    "            code = str(n)+\"_\"+str(overs)+\"_\"+str(nl)\n",
    "            nsr = np.load('results/nsr_'+code+'.npy')\n",
    "            errors = np.load('results/errors_'+code+'.npy')\n",
    "    #         params = np.load('params_'+code+'.npy')\n",
    "            errors[np.isnan(errors)]=1\n",
    "            results[0,idx,nl,n] = np.degrees(np.percentile(errors, q=50))\n",
    "            results[1,idx,nl,n] = np.degrees(np.mean(errors.flatten()))\n",
    "            all_nsr[idx,nl,n,:] = nsr.flatten()\n",
    "            all_errors[idx,nl,n,:] = errors.flatten()"
   ]
  },
  {
   "cell_type": "code",
   "execution_count": null,
   "metadata": {
    "collapsed": false
   },
   "outputs": [],
   "source": [
    "nse = 10.0**(-np.array(range(1,5)))\n",
    "fig = plt.figure()\n",
    "# plt.loglog(nse,results[0,:,1:,4].T, '--^')\n",
    "styles = ['-.o','-o','--o',':o']\n",
    "for idx in range(4):\n",
    "    plt.loglog(nse, results[0,idx,1:,4].T, styles[idx])\n",
    "# plt.semilogy(range(4),results[1,:,3:5], '^')\n",
    "plt.xlabel(\"noise\")\n",
    "plt.ylabel(\"error\")\n",
    "plt.legend([r\"no overs.\",r\"$2\\times $ overs.\",r\"$4\\times $ overs.\", r\"$8\\times $ overs.\"], loc=2)\n",
    "plt.grid()\n",
    "plt.tight_layout()\n",
    "plt.show()\n",
    "fig.savefig('oversampling.pdf')"
   ]
  },
  {
   "cell_type": "code",
   "execution_count": null,
   "metadata": {
    "collapsed": true
   },
   "outputs": [],
   "source": [
    "n_pow = np.concatenate([np.arange(-2.46,-1.05, 0.07037), np.linspace(-1, 9, 199)])\n",
    "n_len = len(n_pow)\n",
    "\n",
    "results = np.empty((2,4,n_len))\n",
    "all_errors = np.empty((4,n_len,100*13))\n",
    "all_power = np.empty((4,n_len,100*13))\n",
    "n = 5\n",
    "\n",
    "\n",
    "\n",
    "for (overs, idx) in zip([1,2,4,8], range(4)):\n",
    "    for (nl, n_idx) in zip(n_pow, range(len(n_pow))):\n",
    "        code = str(n)+\"_\"+str(overs)+\"_\"+\"{0:.2f}\".format(nl)\n",
    "        power = np.load('results/pow_'+code+'.npy')\n",
    "        errors = np.load('results/errors_'+code+'.npy')\n",
    "#         params = np.load('params_'+code+'.npy')\n",
    "        errors[np.isnan(errors)]=1\n",
    "        results[0,idx, n_idx] = np.degrees(np.percentile(errors, q=50))\n",
    "        results[1,idx, n_idx] = np.degrees(np.mean(errors.flatten()))\n",
    "        all_power[idx,n_idx,:] = power.flatten()\n",
    "        all_errors[idx,n_idx,:] = errors.flatten()"
   ]
  },
  {
   "cell_type": "code",
   "execution_count": null,
   "metadata": {
    "collapsed": false
   },
   "outputs": [],
   "source": [
    "# calculate SNR:\n",
    "\n",
    "snr = 10*(np.log(np.mean(all_power.flatten()))+2*n_pow)\n",
    "beg = 10\n",
    "fig = plt.figure()\n",
    "# plt.loglog(nse,results[0,:,1:,4].T, '--^')\n",
    "plt.semilogy(snr[beg:],results[0,0,beg:].T, \"-.\")\n",
    "plt.semilogy(snr[beg:],results[1,0,beg:].T)\n",
    "plt.semilogy(snr[beg:],results[0,3,beg:].T, \"--\")\n",
    "plt.semilogy(snr[beg:],results[1,3,beg:].T, \":\")\n",
    "# plt.semilogy(range(4),results[1,:,3:5], '^')\n",
    "plt.xlabel(r\"$SNR_{dB}$\")\n",
    "plt.ylabel(\"error (in degrres)\")\n",
    "plt.legend([r\"median error (no overs.)\",r\"mean error (no overs.)\", r\"median error 8$\\times$ overs.\",r\"mean error 8$\\times$ overs.\"], loc='best')\n",
    "plt.grid()\n",
    "plt.tight_layout()\n",
    "plt.show()\n",
    "fig.savefig('snr2.pdf')"
   ]
  }
 ],
 "metadata": {
  "kernelspec": {
   "display_name": "Python 3",
   "language": "python",
   "name": "python3"
  },
  "language_info": {
   "codemirror_mode": {
    "name": "ipython",
    "version": 3
   },
   "file_extension": ".py",
   "mimetype": "text/x-python",
   "name": "python",
   "nbconvert_exporter": "python",
   "pygments_lexer": "ipython3",
   "version": "3.6.4"
  }
 },
 "nbformat": 4,
 "nbformat_minor": 1
}
