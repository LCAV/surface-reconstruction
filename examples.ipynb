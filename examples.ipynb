{
 "cells": [
  {
   "cell_type": "markdown",
   "metadata": {},
   "source": [
    "# Examples how to use scripts in this repository"
   ]
  },
  {
   "cell_type": "code",
   "execution_count": null,
   "metadata": {
    "collapsed": false
   },
   "outputs": [],
   "source": [
    "from samplers import *\n",
    "from solvers import *\n",
    "from plots import  *\n",
    "from matplotlib import pylab\n",
    "from pylab import rcParams\n",
    "rcParams['figure.figsize'] = 5, 3"
   ]
  },
  {
   "cell_type": "markdown",
   "metadata": {},
   "source": [
    "# Single run of ALS algorithm\n",
    "Below are two examples of generating plynomials, using a solver and plotting the resutls.\n",
    "\n",
    "In the first example the distance from the camera is equal to the assumed distance, and in the second case it is different. "
   ]
  },
  {
   "cell_type": "code",
   "execution_count": null,
   "metadata": {
    "collapsed": false
   },
   "outputs": [],
   "source": [
    "start_param = [6, -10, 5, 0.5]\n",
    "N = 2*(len(start_param))\n",
    "assumed_distance = 1\n",
    "true_distance = assumed_distance\n",
    "polynomial = SecondSurfacePolynomial(start_param)\n",
    "plot_results(polynomial, 'k', lw=1, label='polynomial')\n",
    "sampler = SurfaceSampler(polynomial, N, [-0.6, true_distance, assumed_distance], interval_length=1, sigma=0.0)\n",
    "sample_values = sampler.sample_values; \n",
    "\n",
    "start_pos = SecondSurfacePolynomial.shifted_positions(sampler.sample_positions, trace_param=[0, 1, assumed_distance])\n",
    "stem_results(start_pos, sample_values, 'k', label=\"start. positions\")\n",
    "\n",
    "solver = ConstrainedALS(\n",
    "    sample_values,\n",
    "    polynomial.model_size,\n",
    "    SecondSurfacePolynomial,\n",
    "    start_pos=sampler.sample_positions,\n",
    "    stopping_error=1e-10,\n",
    "    beta=1,\n",
    "    show_plots=False,\n",
    "    max_iter=10000,\n",
    "    fl=assumed_distance\n",
    "    )\n",
    "solver.solve()\n",
    "\n",
    "stem_results(solver.get_position_estimates(), solver.get_samples(), 'g', label=\"positions found\")\n",
    "polynomial = FullSurfacePolynomial(solver.parameter_estimate)\n",
    "plot_results(polynomial, 'g', lw =1, label='recovered')\n",
    "\n",
    "pylab.title(\"initialised with correct scale\", fontsize=10)\n",
    "pylab.xlabel(r'$t$', fontsize=10)\n",
    "pylab.legend(loc=\"lower right\", fontsize=10)\n",
    "pylab.gcf().subplots_adjust(bottom=0.15)\n",
    "pylab.show()"
   ]
  },
  {
   "cell_type": "code",
   "execution_count": null,
   "metadata": {
    "collapsed": false
   },
   "outputs": [],
   "source": [
    "start_param = [6, -10, 5, 0.5]\n",
    "N = 2*(len(start_param))\n",
    "assumed_distace = 1.0\n",
    "true_distance = 1.2\n",
    "polynomial = SecondSurfacePolynomial(start_param)\n",
    "plot_results(polynomial,'k',lw=1, label='polynomial')\n",
    "sampler = SurfaceSampler(polynomial,N,[-0.6, true_distance, assumed_distance], interval_length=1, sigma=0.0)\n",
    "sample_values = sampler.sample_values; \n",
    "\n",
    "start_pos = SecondSurfacePolynomial.shifted_positions(sampler.sample_positions,trace_param=[0, 1, assumed_distace])\n",
    "stem_results(start_pos,sample_values,'k',label=\"start. positions\")\n",
    "\n",
    "solver = ConstrainedALS(\n",
    "    sample_values,\n",
    "    polynomial.model_size,\n",
    "    SecondSurfacePolynomial,\n",
    "    start_pos=sampler.sample_positions,\n",
    "    stopping_error=1e-10,\n",
    "    beta=1,\n",
    "    show_plots=False,\n",
    "    max_iter=10000,\n",
    "    fl=assumed_distance\n",
    "    )\n",
    "solver.solve()\n",
    "\n",
    "stem_results(solver.get_position_estimates(),solver.get_samples(),'g',label=\"positions found\")\n",
    "polynomial = FullSurfacePolynomial(solver.parameter_estimate)\n",
    "plot_results(polynomial,'g',lw =1, label='recovered')\n",
    "\n",
    "pylab.title(\"initialised with incorrect scale\", fontsize=10)\n",
    "pylab.xlabel(r'$t$',fontsize=10)\n",
    "pylab.legend(loc=\"lower right\", fontsize=10)\n",
    "pylab.gcf().subplots_adjust(bottom=0.15)\n",
    "pylab.show()"
   ]
  },
  {
   "cell_type": "markdown",
   "metadata": {},
   "source": [
    "# Running many numerical experiments\n",
    "Numerical experiments are running based on a paramteters written down in the sorted set.\n",
    "The script `prepare_tests` generates and saves such set. Then the script `surface_experiments` loads the set of parameters and run actuall experiments. \n",
    "\n",
    "Below is example how to generate set of experiment parameters and then run the experiments, and then finally plot them. "
   ]
  },
  {
   "cell_type": "code",
   "execution_count": null,
   "metadata": {
    "collapsed": false
   },
   "outputs": [],
   "source": [
    "import pickle\n",
    "import numpy.random as nr\n",
    "import numpy as np\n",
    "from sortedcontainers import SortedSet\n",
    "from surface_experiments import *\n",
    "from plots import *"
   ]
  },
  {
   "cell_type": "markdown",
   "metadata": {},
   "source": [
    "### Prepare experiments\n",
    "Create set of parameters in the same format as used in the `surface_experiments` sript."
   ]
  },
  {
   "cell_type": "code",
   "execution_count": null,
   "metadata": {
    "collapsed": false
   },
   "outputs": [],
   "source": [
    "test_set = SortedSet([])\n",
    "all_degrees = SortedSet([])\n",
    "new_params = True\n",
    "n_tests = 2\n",
    "\n",
    "noises = np.linspace(-1, 0, 10)\n",
    "\n",
    "for polynomial_degree in [5]:\n",
    "    for ovs in [1, 2, 4, 8]:\n",
    "        for noise_scale in noises:\n",
    "            test_set.add((polynomial_degree, ovs, noise_scale))\n",
    "            all_degrees.add(polynomial_degree)\n",
    "\n",
    "if new_params:\n",
    "    for polynomial_degree in all_degrees:\n",
    "        params = nr.randn(n_tests, polynomial_degree)\n",
    "        params[:, 0] = 0.5\n",
    "        np.savetxt(\"example_polynomials\" + str(polynomial_degree) + \".csv\", params, delimiter=\",\")\n"
   ]
  },
  {
   "cell_type": "markdown",
   "metadata": {},
   "source": [
    "### Run experiments\n",
    "\n",
    "Load set of paramters and run experiments in parallel."
   ]
  },
  {
   "cell_type": "code",
   "execution_count": null,
   "metadata": {
    "collapsed": false
   },
   "outputs": [],
   "source": [
    "save = True\n",
    "plots = False\n",
    "verbose = False\n",
    "n_tests = 2  # number of tests (should be at least two)\n",
    "directory = \"example_results/\"\n",
    "f = 1.0  # distance between the origin and the image plane\n",
    "b = 1.0  # intersection between camera axis and the surface\n",
    "slopes = np.linspace(-np.pi / 9, np.pi / 9, 13)\n",
    "\n",
    "\n",
    "def test_block_unpack(t):\n",
    "    return test_block(t[0], t[1], t[2], n_tests, slopes, verbose, save, directory, b, f, plots)\n",
    "\n",
    "\n",
    "for t in test_set:\n",
    "    print(t)\n",
    "\n",
    "# start 4 worker processes\n",
    "pool = Pool(processes=4)\n",
    "pool.map(test_block_unpack, test_set);"
   ]
  },
  {
   "cell_type": "markdown",
   "metadata": {},
   "source": [
    "### Plot results "
   ]
  },
  {
   "cell_type": "code",
   "execution_count": null,
   "metadata": {
    "collapsed": false
   },
   "outputs": [],
   "source": [
    "n_pow = np.linspace(-1, 0, 10)\n",
    "n_len = len(n_pow)\n",
    "\n",
    "results = np.empty((2, 4, n_len))\n",
    "all_errors = np.empty((4, n_len, n_tests*13))\n",
    "all_power = np.empty((4, n_len, n_tests*13))\n",
    "n = 5\n",
    "\n",
    "for (overs, idx) in zip([1, 2, 4, 8], range(4)):\n",
    "    for (nl, n_idx) in zip(n_pow, range(len(n_pow))):\n",
    "        code = code = \"{}_{}_{:.2f}\".format(n, overs,nl)\n",
    "        power = np.load('example_results/pow_' + code + '.npy')\n",
    "        errors = np.load('example_results/errors_' + code + '.npy')\n",
    "        errors[np.isnan(errors)]=1\n",
    "        results[0, idx, n_idx] = np.degrees(np.percentile(errors, q=50))\n",
    "        results[1, idx, n_idx] = np.degrees(np.mean(errors.flatten()))\n",
    "        all_power[idx, n_idx,:] = power.flatten()\n",
    "        all_errors[idx, n_idx,:] = errors.flatten()\n",
    "        \n",
    "snr = 10*(np.log(np.mean(all_power.flatten())) + 2 * n_pow)\n",
    "beg = 0\n",
    "fig = plt.figure()\n",
    "plt.semilogy(snr[beg:], results[0,0,beg:].T, \"-.\")\n",
    "plt.semilogy(snr[beg:], results[1,0,beg:].T)\n",
    "plt.semilogy(snr[beg:], results[0,3,beg:].T, \"--\")\n",
    "plt.semilogy(snr[beg:], results[1,3,beg:].T, \":\")\n",
    "plt.xlabel(r\"$SNR_{dB}$\")\n",
    "plt.ylabel(\"error (in degrres)\")\n",
    "plt.legend([r\"median error (no overs.)\", r\"mean error (no overs.)\", r\"median error 8$\\times$ overs.\", r\"mean error 8$\\times$ overs.\"], loc='best')\n",
    "plt.grid()\n",
    "plt.tight_layout()\n",
    "plt.show()\n",
    "fig.savefig('snr2.pdf')"
   ]
  },
  {
   "cell_type": "code",
   "execution_count": null,
   "metadata": {
    "collapsed": true
   },
   "outputs": [],
   "source": []
  }
 ],
 "metadata": {
  "anaconda-cloud": {},
  "kernelspec": {
   "display_name": "SR",
   "language": "python",
   "name": "sr"
  },
  "language_info": {
   "codemirror_mode": {
    "name": "ipython",
    "version": 3
   },
   "file_extension": ".py",
   "mimetype": "text/x-python",
   "name": "python",
   "nbconvert_exporter": "python",
   "pygments_lexer": "ipython3",
   "version": "3.6.4"
  }
 },
 "nbformat": 4,
 "nbformat_minor": 0
}
