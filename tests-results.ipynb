{
 "cells": [
  {
   "cell_type": "code",
   "execution_count": 82,
   "metadata": {
    "collapsed": false
   },
   "outputs": [],
   "source": [
    "import numpy as np\n",
    "from os import listdir\n",
    "import matplotlib.pyplot as plt\n",
    "from signals import *\n",
    "from plots import *"
   ]
  },
  {
   "cell_type": "raw",
   "metadata": {},
   "source": [
    "exec(open(\"surface-tests.py\").read())"
   ]
  },
  {
   "cell_type": "code",
   "execution_count": 83,
   "metadata": {
    "collapsed": false
   },
   "outputs": [
    {
     "data": {
      "text/plain": [
       "['.DS_Store',\n",
       " '.git',\n",
       " '.gitignore',\n",
       " '.idea',\n",
       " '.ipynb_checkpoints',\n",
       " '__pycache__',\n",
       " 'errors_3_10_1.npy',\n",
       " 'errors_3_1_0.npy',\n",
       " 'errors_3_1_1.npy',\n",
       " 'errors_3_1_2.npy',\n",
       " 'errors_3_1_3.npy',\n",
       " 'errors_3_2_0.npy',\n",
       " 'errors_3_2_1.npy',\n",
       " 'errors_3_2_2.npy',\n",
       " 'errors_3_2_3.npy',\n",
       " 'errors_3_3_0.npy',\n",
       " 'errors_3_3_1.npy',\n",
       " 'errors_3_3_2.npy',\n",
       " 'errors_3_3_3.npy',\n",
       " 'errors_4_1_0.npy',\n",
       " 'errors_4_1_1.npy',\n",
       " 'errors_4_1_2.npy',\n",
       " 'errors_4_1_3.npy',\n",
       " 'errors_4_2_0.npy',\n",
       " 'errors_4_2_1.npy',\n",
       " 'errors_4_2_2.npy',\n",
       " 'errors_4_2_3.npy',\n",
       " 'errors_4_3_0.npy',\n",
       " 'errors_4_3_1.npy',\n",
       " 'errors_4_3_2.npy',\n",
       " 'errors_4_3_3.npy',\n",
       " 'errors_5_1_0.npy',\n",
       " 'errors_5_1_3.npy',\n",
       " 'errors_6_1_0.npy',\n",
       " 'errors_7_1_0.npy',\n",
       " 'errors_8_1_0.npy',\n",
       " 'example1.py',\n",
       " 'nsr_3_10_1.npy',\n",
       " 'nsr_3_1_0.npy',\n",
       " 'nsr_3_1_1.npy',\n",
       " 'nsr_3_1_2.npy',\n",
       " 'nsr_3_1_3.npy',\n",
       " 'nsr_3_2_0.npy',\n",
       " 'nsr_3_2_1.npy',\n",
       " 'nsr_3_2_2.npy',\n",
       " 'nsr_3_2_3.npy',\n",
       " 'nsr_3_3_0.npy',\n",
       " 'nsr_3_3_1.npy',\n",
       " 'nsr_3_3_2.npy',\n",
       " 'nsr_3_3_3.npy',\n",
       " 'nsr_4_1_0.npy',\n",
       " 'nsr_4_1_1.npy',\n",
       " 'nsr_4_1_2.npy',\n",
       " 'nsr_4_1_3.npy',\n",
       " 'nsr_4_2_0.npy',\n",
       " 'nsr_4_2_1.npy',\n",
       " 'nsr_4_2_2.npy',\n",
       " 'nsr_4_2_3.npy',\n",
       " 'nsr_4_3_0.npy',\n",
       " 'nsr_4_3_1.npy',\n",
       " 'nsr_4_3_2.npy',\n",
       " 'nsr_4_3_3.npy',\n",
       " 'nsr_5_1_0.npy',\n",
       " 'nsr_5_1_3.npy',\n",
       " 'nsr_6_1_0.npy',\n",
       " 'nsr_7_1_0.npy',\n",
       " 'nsr_8_1_0.npy',\n",
       " 'params_3_10_1.npy',\n",
       " 'params_3_1_0.npy',\n",
       " 'params_3_1_1.npy',\n",
       " 'params_3_1_2.npy',\n",
       " 'params_3_1_3.npy',\n",
       " 'params_3_2_0.npy',\n",
       " 'params_3_2_1.npy',\n",
       " 'params_3_2_2.npy',\n",
       " 'params_3_2_3.npy',\n",
       " 'params_3_3_0.npy',\n",
       " 'params_3_3_1.npy',\n",
       " 'params_3_3_2.npy',\n",
       " 'params_3_3_3.npy',\n",
       " 'params_4_1_0.npy',\n",
       " 'params_4_1_1.npy',\n",
       " 'params_4_1_2.npy',\n",
       " 'params_4_1_3.npy',\n",
       " 'params_4_2_0.npy',\n",
       " 'params_4_2_1.npy',\n",
       " 'params_4_2_2.npy',\n",
       " 'params_4_2_3.npy',\n",
       " 'params_4_3_0.npy',\n",
       " 'params_4_3_1.npy',\n",
       " 'params_4_3_2.npy',\n",
       " 'params_4_3_3.npy',\n",
       " 'params_5_1_0.npy',\n",
       " 'params_5_1_3.npy',\n",
       " 'params_6_1_0.npy',\n",
       " 'params_7_1_0.npy',\n",
       " 'params_8_1_0.npy',\n",
       " 'pattern.ipynb',\n",
       " 'plots.py',\n",
       " 'results.ipynb',\n",
       " 'samplers.py',\n",
       " 'shifing-exp.py',\n",
       " 'shifting.py',\n",
       " 'signals.py',\n",
       " 'signals_tests.py',\n",
       " 'solvers.py',\n",
       " 'surface-images',\n",
       " 'surface-reconstruction.ipynb',\n",
       " 'surface-tests.py',\n",
       " 'testfile.txt.npy',\n",
       " 'tests-results.ipynb',\n",
       " 'unknown-locations.ipynb']"
      ]
     },
     "execution_count": 83,
     "metadata": {},
     "output_type": "execute_result"
    }
   ],
   "source": [
    "listdir()"
   ]
  },
  {
   "cell_type": "code",
   "execution_count": 84,
   "metadata": {
    "collapsed": false
   },
   "outputs": [],
   "source": [
    "nsr = np.load('nsr_6_1_0.npy')\n",
    "errors = np.load('errors_5_1_0.npy')\n",
    "params = np.load('params_5_1_0.npy')"
   ]
  },
  {
   "cell_type": "code",
   "execution_count": 85,
   "metadata": {
    "collapsed": false
   },
   "outputs": [
    {
     "name": "stdout",
     "output_type": "stream",
     "text": [
      "(50, 13)\n",
      "2.55916087082e-08\n",
      "(50, 5)\n",
      "(50, 13)\n"
     ]
    }
   ],
   "source": [
    "print(errors.shape)\n",
    "print(np.degrees(np.nanstd(errors)))\n",
    "print(params.shape)\n",
    "nsr = nsr.reshape(errors.shape)\n",
    "print(nsr.shape)"
   ]
  },
  {
   "cell_type": "code",
   "execution_count": 86,
   "metadata": {
    "collapsed": false
   },
   "outputs": [
    {
     "data": {
      "image/png": "[encoded data removed]",
      "text/plain": [
       "<matplotlib.figure.Figure at 0x10f846ac8>"
      ]
     },
     "metadata": {},
     "output_type": "display_data"
    },
    {
     "name": "stdout",
     "output_type": "stream",
     "text": [
      "1.61460670528e-09\n"
     ]
    }
   ],
   "source": [
    "plt.figure(figsize=(20,5))\n",
    "inds = np.where(np.isnan(errors))\n",
    "# errors[inds] = 1.1\n",
    "plt.hist(errors.flatten(),bins=100) \n",
    "plt.show()\n",
    "print(np.max(errors))"
   ]
  },
  {
   "cell_type": "code",
   "execution_count": 73,
   "metadata": {
    "collapsed": false
   },
   "outputs": [],
   "source": [
    "wr_inds = np.where(errors>0.2)"
   ]
  },
  {
   "cell_type": "code",
   "execution_count": 74,
   "metadata": {
    "collapsed": false
   },
   "outputs": [
    {
     "data": {
      "text/plain": [
       "(array([], dtype=int64), array([], dtype=int64))"
      ]
     },
     "execution_count": 74,
     "metadata": {},
     "output_type": "execute_result"
    }
   ],
   "source": [
    "wr_inds"
   ]
  },
  {
   "cell_type": "code",
   "execution_count": 65,
   "metadata": {
    "collapsed": false
   },
   "outputs": [
    {
     "data": {
      "text/plain": [
       "array([[  1.00000000e+00,   2.13442582e+00,  -1.00682077e+00,\n",
       "         -1.14694739e-04,  -1.05743816e+00]])"
      ]
     },
     "execution_count": 65,
     "metadata": {},
     "output_type": "execute_result"
    }
   ],
   "source": [
    "params[np.unique(wr_inds[0]),:]"
   ]
  },
  {
   "cell_type": "code",
   "execution_count": 56,
   "metadata": {
    "collapsed": false
   },
   "outputs": [
    {
     "data": {
      "text/plain": [
       "array([[[ 1.        ,  2.1723328 ,  1.17707022,  1.64005737, -0.41787062],\n",
       "        [ 1.        ,  2.04633278,  0.66698785,  0.07909219, -0.96476347],\n",
       "        [ 1.        , -2.29215977, -0.18094387,  0.2942371 ,  0.32408519],\n",
       "        [ 1.        , -2.17363214,  0.78255547,  0.5969421 , -0.93110255]]])"
      ]
     },
     "execution_count": 56,
     "metadata": {},
     "output_type": "execute_result"
    }
   ],
   "source": [
    "params[np.where(abs(params[:,1])>2),:]"
   ]
  },
  {
   "cell_type": "code",
   "execution_count": null,
   "metadata": {
    "collapsed": true
   },
   "outputs": [],
   "source": []
  }
 ],
 "metadata": {
  "kernelspec": {
   "display_name": "Python 3",
   "language": "python",
   "name": "python3"
  },
  "language_info": {
   "codemirror_mode": {
    "name": "ipython",
    "version": 3
   },
   "file_extension": ".py",
   "mimetype": "text/x-python",
   "name": "python",
   "nbconvert_exporter": "python",
   "pygments_lexer": "ipython3",
   "version": "3.6.0"
  }
 },
 "nbformat": 4,
 "nbformat_minor": 2
}
