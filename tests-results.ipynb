{
 "cells": [
  {
   "cell_type": "code",
   "execution_count": 95,
   "metadata": {
    "collapsed": false
   },
   "outputs": [],
   "source": [
    "import numpy as np\n",
    "from os import listdir\n",
    "import matplotlib.pyplot as plt\n",
    "from signals import *\n",
    "from plots import *\n",
    "from pylab import rcParams\n",
    "rcParams['figure.figsize'] = 5, 3"
   ]
  },
  {
   "cell_type": "raw",
   "metadata": {},
   "source": [
    "exec(open(\"surface-tests.py\").read())"
   ]
  },
  {
   "cell_type": "code",
   "execution_count": 103,
   "metadata": {
    "collapsed": false
   },
   "outputs": [
    {
     "data": {
      "text/plain": [
       "['.DS_Store',\n",
       " '.git',\n",
       " '.gitignore',\n",
       " '.idea',\n",
       " '.ipynb_checkpoints',\n",
       " '__pycache__',\n",
       " 'errors_3_10_1.npy',\n",
       " 'errors_3_1_0.npy',\n",
       " 'errors_3_1_1.npy',\n",
       " 'errors_3_1_2.npy',\n",
       " 'errors_3_1_3.npy',\n",
       " 'errors_3_2_0.npy',\n",
       " 'errors_3_2_1.npy',\n",
       " 'errors_3_2_2.npy',\n",
       " 'errors_3_2_3.npy',\n",
       " 'errors_3_3_0.npy',\n",
       " 'errors_3_3_1.npy',\n",
       " 'errors_3_3_2.npy',\n",
       " 'errors_3_3_3.npy',\n",
       " 'errors_4_1_0.npy',\n",
       " 'errors_4_1_1.npy',\n",
       " 'errors_4_1_2.npy',\n",
       " 'errors_4_1_3.npy',\n",
       " 'errors_4_1_4.npy',\n",
       " 'errors_4_2_0.npy',\n",
       " 'errors_4_2_1.npy',\n",
       " 'errors_4_2_2.npy',\n",
       " 'errors_4_2_3.npy',\n",
       " 'errors_4_2_4.npy',\n",
       " 'errors_4_3_0.npy',\n",
       " 'errors_4_3_1.npy',\n",
       " 'errors_4_3_2.npy',\n",
       " 'errors_4_3_3.npy',\n",
       " 'errors_4_3_4.npy',\n",
       " 'errors_4_4_3.npy',\n",
       " 'errors_5_1_0.npy',\n",
       " 'errors_5_1_3.npy',\n",
       " 'errors_6_1_0.npy',\n",
       " 'errors_6_1_3.npy',\n",
       " 'errors_7_1_0.npy',\n",
       " 'errors_7_1_3.npy',\n",
       " 'errors_8_1_0.npy',\n",
       " 'errors_8_1_3.npy',\n",
       " 'errors_9_1_0.npy',\n",
       " 'errors_9_1_3.npy',\n",
       " 'example1.py',\n",
       " 'nsr_3_10_1.npy',\n",
       " 'nsr_3_1_0.npy',\n",
       " 'nsr_3_1_1.npy',\n",
       " 'nsr_3_1_2.npy',\n",
       " 'nsr_3_1_3.npy',\n",
       " 'nsr_3_2_0.npy',\n",
       " 'nsr_3_2_1.npy',\n",
       " 'nsr_3_2_2.npy',\n",
       " 'nsr_3_2_3.npy',\n",
       " 'nsr_3_3_0.npy',\n",
       " 'nsr_3_3_1.npy',\n",
       " 'nsr_3_3_2.npy',\n",
       " 'nsr_3_3_3.npy',\n",
       " 'nsr_4_1_0.npy',\n",
       " 'nsr_4_1_1.npy',\n",
       " 'nsr_4_1_2.npy',\n",
       " 'nsr_4_1_3.npy',\n",
       " 'nsr_4_1_4.npy',\n",
       " 'nsr_4_2_0.npy',\n",
       " 'nsr_4_2_1.npy',\n",
       " 'nsr_4_2_2.npy',\n",
       " 'nsr_4_2_3.npy',\n",
       " 'nsr_4_2_4.npy',\n",
       " 'nsr_4_3_0.npy',\n",
       " 'nsr_4_3_1.npy',\n",
       " 'nsr_4_3_2.npy',\n",
       " 'nsr_4_3_3.npy',\n",
       " 'nsr_4_3_4.npy',\n",
       " 'nsr_4_4_3.npy',\n",
       " 'nsr_5_1_0.npy',\n",
       " 'nsr_5_1_3.npy',\n",
       " 'nsr_6_1_0.npy',\n",
       " 'nsr_6_1_3.npy',\n",
       " 'nsr_7_1_0.npy',\n",
       " 'nsr_7_1_3.npy',\n",
       " 'nsr_8_1_0.npy',\n",
       " 'nsr_8_1_3.npy',\n",
       " 'nsr_9_1_0.npy',\n",
       " 'nsr_9_1_3.npy',\n",
       " 'params_3_10_1.npy',\n",
       " 'params_3_1_0.npy',\n",
       " 'params_3_1_1.npy',\n",
       " 'params_3_1_2.npy',\n",
       " 'params_3_1_3.npy',\n",
       " 'params_3_2_0.npy',\n",
       " 'params_3_2_1.npy',\n",
       " 'params_3_2_2.npy',\n",
       " 'params_3_2_3.npy',\n",
       " 'params_3_3_0.npy',\n",
       " 'params_3_3_1.npy',\n",
       " 'params_3_3_2.npy',\n",
       " 'params_3_3_3.npy',\n",
       " 'params_4_1_0.npy',\n",
       " 'params_4_1_1.npy',\n",
       " 'params_4_1_2.npy',\n",
       " 'params_4_1_3.npy',\n",
       " 'params_4_1_4.npy',\n",
       " 'params_4_2_0.npy',\n",
       " 'params_4_2_1.npy',\n",
       " 'params_4_2_2.npy',\n",
       " 'params_4_2_3.npy',\n",
       " 'params_4_2_4.npy',\n",
       " 'params_4_3_0.npy',\n",
       " 'params_4_3_1.npy',\n",
       " 'params_4_3_2.npy',\n",
       " 'params_4_3_3.npy',\n",
       " 'params_4_3_4.npy',\n",
       " 'params_4_4_3.npy',\n",
       " 'params_5_1_0.npy',\n",
       " 'params_5_1_3.npy',\n",
       " 'params_6_1_0.npy',\n",
       " 'params_6_1_3.npy',\n",
       " 'params_7_1_0.npy',\n",
       " 'params_7_1_3.npy',\n",
       " 'params_8_1_0.npy',\n",
       " 'params_8_1_3.npy',\n",
       " 'params_9_1_0.npy',\n",
       " 'params_9_1_3.npy',\n",
       " 'pattern.ipynb',\n",
       " 'plots.py',\n",
       " 'results.ipynb',\n",
       " 'samplers.py',\n",
       " 'shifing-exp.py',\n",
       " 'shifting.py',\n",
       " 'signals.py',\n",
       " 'signals_tests.py',\n",
       " 'solvers.py',\n",
       " 'surface-images',\n",
       " 'surface-reconstruction.ipynb',\n",
       " 'surface-tests.py',\n",
       " 'testfile.txt.npy',\n",
       " 'tests-results.ipynb',\n",
       " 'unknown-locations.ipynb']"
      ]
     },
     "execution_count": 103,
     "metadata": {},
     "output_type": "execute_result"
    }
   ],
   "source": [
    "listdir()"
   ]
  },
  {
   "cell_type": "code",
   "execution_count": 109,
   "metadata": {
    "collapsed": false
   },
   "outputs": [],
   "source": [
    "results = np.empty((2,4,10))\n",
    "all_errors = np.empty((4,10,50*13))"
   ]
  },
  {
   "cell_type": "code",
   "execution_count": 110,
   "metadata": {
    "collapsed": false
   },
   "outputs": [],
   "source": [
    "for n in range(3,10):\n",
    "    for nl in [0,3]:\n",
    "        code = str(n)+\"_1_\"+str(nl)\n",
    "#         nsr = np.load('nsr_'+code+'.npy')\n",
    "        errors = np.load('errors_'+code+'.npy')\n",
    "#         params = np.load('params_'+code+'.npy')\n",
    "        results[0,nl,n] = np.degrees(np.percentile(errors, q=50))\n",
    "        results[1,nl,n] = np.degrees(np.percentile(errors, q=95))\n",
    "        \n",
    "        all_errors[nl,n,:] = errors.flatten()\n"
   ]
  },
  {
   "cell_type": "code",
   "execution_count": 111,
   "metadata": {
    "collapsed": false,
    "scrolled": true
   },
   "outputs": [
    {
     "data": {
      "image/png": "[encoded data removed]",
      "text/plain": [
       "<matplotlib.figure.Figure at 0x11c7eff28>"
      ]
     },
     "metadata": {},
     "output_type": "display_data"
    }
   ],
   "source": [
    "plt.semilogy(range(3,10),results[0,[0,3],3:10].T, 'o')\n",
    "plt.semilogy(range(3,10),results[1,[0,3],3:10].T, '^')\n",
    "plt.show()"
   ]
  },
  {
   "cell_type": "code",
   "execution_count": 115,
   "metadata": {
    "collapsed": false
   },
   "outputs": [
    {
     "data": {
      "image/png": "[encoded data removed]",
      "text/plain": [
       "<matplotlib.figure.Figure at 0x11c96d2b0>"
      ]
     },
     "metadata": {},
     "output_type": "display_data"
    }
   ],
   "source": [
    "flierprops1 = dict(marker='+', markeredgecolor='purple')\n",
    "medianprops1 = dict(linewidth=2.5, color='purple')\n",
    "flierprops2 = dict(marker='+', markeredgecolor='green')\n",
    "medianprops2 = dict(linewidth=2.5, color='green')\n",
    "\n",
    "fig = plt.figure()\n",
    "ax = fig.add_subplot(1,1,1)\n",
    "ax.boxplot(all_errors[0,3:10,:].T, whis=[0, 95], flierprops=flierprops1, medianprops=medianprops1)\n",
    "ax.boxplot(all_errors[3,3:10,:].T, whis=[0, 95], flierprops=flierprops2, medianprops=medianprops2)\n",
    "ax.set_yscale('log')\n",
    "plt.xticks(range(1,8),range(2,10))\n",
    "plt.xlabel(\"degree\")\n",
    "plt.ylabel(\"error\")\n",
    "plt.show()"
   ]
  },
  {
   "cell_type": "code",
   "execution_count": 108,
   "metadata": {
    "collapsed": false
   },
   "outputs": [],
   "source": [
    "results = np.empty((2,3,5,5))\n",
    "all_errors = np.empty((3,5,5,50*13))\n",
    "\n",
    "for overs in range(3):\n",
    "    for n in range(4,5):\n",
    "        for nl in range(5):\n",
    "            code = str(n)+\"_\"+str(overs+1)+\"_\"+str(nl)\n",
    "    #         nsr = np.load('nsr_'+code+'.npy')\n",
    "            errors = np.load('errors_'+code+'.npy')\n",
    "    #         params = np.load('params_'+code+'.npy')\n",
    "            results[0,overs,nl,n] = np.degrees(np.percentile(errors, q=50))\n",
    "            results[1,overs,nl,n] = np.degrees(np.mean(errors.flatten()))\n",
    "\n",
    "            all_errors[overs,nl,n,:] = errors.flatten()\n"
   ]
  },
  {
   "cell_type": "code",
   "execution_count": 102,
   "metadata": {
    "collapsed": false
   },
   "outputs": [
    {
     "data": {
      "image/png": "[encoded data removed]",
      "text/plain": [
       "<matplotlib.figure.Figure at 0x11c1e6c88>"
      ]
     },
     "metadata": {},
     "output_type": "display_data"
    }
   ],
   "source": [
    "nse = 10.0**(-np.array(range(1,5)))\n",
    "# plt.loglog(nse,results[0,:,1:,4].T, '--^')\n",
    "plt.loglog(nse,results[1,:,1:,4].T, ':o')\n",
    "# plt.semilogy(range(4),results[1,:,3:5], '^')\n",
    "plt.xlabel(\"noise\")\n",
    "plt.ylabel(\"error\")\n",
    "plt.legend([r\"no overs.\",r\"$2\\times $ overs.\",r\"$3\\times $ overs.\"])\n",
    "plt.show()"
   ]
  },
  {
   "cell_type": "raw",
   "metadata": {},
   "source": [
    "nse = 10.0**(-np.array(range(1,4)))\n",
    "fig = plt.figure()\n",
    "ax = fig.add_subplot(1,1,1)\n",
    "ax.set_yscale(\"log\")\n",
    "ax.fill_between(nse,results[0,0,1:,4].T,results[1,0,1:,4].T, alpha=0.5)\n",
    "ax.fill_between(nse,results[0,1,1:,4].T,results[1,1,1:,4].T, alpha=0.5)\n",
    "ax.fill_between(nse,results[0,2,1:,4].T,results[1,2,1:,4].T, )\n",
    "ax.loglog(nse,results[0,:,1:,4].T, '--^')\n",
    "# plt.loglog(nse,results[1,:,1:,4].T, ':o')\n",
    "# plt.semilogy(range(4),results[1,:,3:5], '^')\n",
    "plt.xlabel(\"noise\")\n",
    "plt.ylabel(\"error\")\n",
    "plt.legend([\"2n median\",\"4n median\",\"6n median\"])\n",
    "plt.show()"
   ]
  },
  {
   "cell_type": "code",
   "execution_count": null,
   "metadata": {
    "collapsed": true
   },
   "outputs": [],
   "source": []
  }
 ],
 "metadata": {
  "kernelspec": {
   "display_name": "Python 3",
   "language": "python",
   "name": "python3"
  },
  "language_info": {
   "codemirror_mode": {
    "name": "ipython",
    "version": 3
   },
   "file_extension": ".py",
   "mimetype": "text/x-python",
   "name": "python",
   "nbconvert_exporter": "python",
   "pygments_lexer": "ipython3",
   "version": "3.6.0"
  }
 },
 "nbformat": 4,
 "nbformat_minor": 2
}
