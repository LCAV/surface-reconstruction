{
 "cells": [
  {
   "cell_type": "code",
   "execution_count": 3,
   "metadata": {
    "collapsed": true
   },
   "outputs": [],
   "source": [
    "from samplers import *\n",
    "from solvers import *\n",
    "from plots import  *\n",
    "from matplotlib import pylab\n",
    "from pylab import rcParams\n",
    "rcParams['figure.figsize'] = 5, 3"
   ]
  },
  {
   "cell_type": "code",
   "execution_count": 1,
   "metadata": {
    "collapsed": false
   },
   "outputs": [
    {
     "ename": "AttributeError",
     "evalue": "'GaussianSampler' object has no attribute 'get_positions'",
     "output_type": "error",
     "traceback": [
      "\u001b[0;31m---------------------------------------------------------------------------\u001b[0m",
      "\u001b[0;31mAttributeError\u001b[0m                            Traceback (most recent call last)",
      "\u001b[0;32m<ipython-input-1-294ea20d7e67>\u001b[0m in \u001b[0;36m<module>\u001b[0;34m()\u001b[0m\n\u001b[1;32m     18\u001b[0m \u001b[0;31m# print sampler.get_samples()\u001b[0m\u001b[0;34m\u001b[0m\u001b[0;34m\u001b[0m\u001b[0m\n\u001b[1;32m     19\u001b[0m \u001b[0;31m# print sampler.number_samples\u001b[0m\u001b[0;34m\u001b[0m\u001b[0;34m\u001b[0m\u001b[0m\n\u001b[0;32m---> 20\u001b[0;31m \u001b[0mstem_results\u001b[0m\u001b[0;34m(\u001b[0m\u001b[0msampler\u001b[0m\u001b[0;34m.\u001b[0m\u001b[0mget_positions\u001b[0m\u001b[0;34m(\u001b[0m\u001b[0;34m)\u001b[0m\u001b[0;34m,\u001b[0m\u001b[0msampler\u001b[0m\u001b[0;34m.\u001b[0m\u001b[0mget_samples\u001b[0m\u001b[0;34m(\u001b[0m\u001b[0;34m)\u001b[0m\u001b[0;34m,\u001b[0m\u001b[0;34m'b'\u001b[0m\u001b[0;34m)\u001b[0m\u001b[0;34m\u001b[0m\u001b[0m\n\u001b[0m\u001b[1;32m     21\u001b[0m \u001b[0;34m\u001b[0m\u001b[0m\n\u001b[1;32m     22\u001b[0m \u001b[0;31m# solver = OrdinaryLS(sampler.get_samples(),polynomial.degree,SignalPolynomial)\u001b[0m\u001b[0;34m\u001b[0m\u001b[0;34m\u001b[0m\u001b[0m\n",
      "\u001b[0;31mAttributeError\u001b[0m: 'GaussianSampler' object has no attribute 'get_positions'"
     ]
    },
    {
     "data": {
      "image/png": "[encoded data removed]",
      "text/plain": [
       "<matplotlib.figure.Figure at 0x1119da278>"
      ]
     },
     "metadata": {},
     "output_type": "display_data"
    }
   ],
   "source": [
    "pylab.ion()\n",
    "N = 10\n",
    "start_param = [1,-2, 1]\n",
    "polynomial = SignalPolynomial(start_param)\n",
    "# print polynomial.degree\n",
    "plot_results(polynomial,'b',lw =3)\n",
    "\n",
    "# sampler = DeterministicSampler(polynomial,N)\n",
    "sampler = GaussianSampler(polynomial,N,1,0.05)\n",
    "# print sampler.get_positions()\n",
    "# print sampler.get_samples()\n",
    "# print sampler.number_samples\n",
    "stem_results(sampler.get_positions(),sampler.get_samples(),'b')\n",
    "\n",
    "# solver = OrdinaryLS(sampler.get_samples(),polynomial.degree,SignalPolynomial)\n",
    "solver = AlternatingLS(\n",
    "    sampler.get_samples(),\n",
    "    polynomial.model_size,\n",
    "    SignalPolynomial,\n",
    "    False,\n",
    "    stopping_error=1e-10,\n",
    "    beta=0.01)\n",
    "\n",
    "solver.solve()\n",
    "# print solver.samples\n",
    "# print solver.make_x()\n",
    "# print solver.parameter_estimate\n",
    "print(solver.train_error)\n",
    "print(polynomial.square_error(SignalPolynomial(solver.parameter_estimate)))\n",
    "pylab.ioff()\n",
    "plot_results(SignalPolynomial(solver.parameter_estimate),'r',lw = 3)\n",
    "stem_results(solver.get_position_estimates(),solver.get_samples(),'r');\n",
    "pylab.show()\n",
    "# stem_results(DeterministicSampler(SignalPolynomial(solver.parameter_estimate),N),'g')"
   ]
  },
  {
   "cell_type": "code",
   "execution_count": 29,
   "metadata": {
    "collapsed": false
   },
   "outputs": [
    {
     "name": "stdout",
     "output_type": "stream",
     "text": [
      "[-0.  0. -0. -0.  0.  0. -0. -0.  0.  0.  0. -0. -0.  0. -0. -0.]\n"
     ]
    },
    {
     "ename": "AttributeError",
     "evalue": "'GaussianSampler' object has no attribute 'get_samples'",
     "output_type": "error",
     "traceback": [
      "\u001b[0;31m---------------------------------------------------------------------------\u001b[0m",
      "\u001b[0;31mAttributeError\u001b[0m                            Traceback (most recent call last)",
      "\u001b[0;32m<ipython-input-29-c4752d6c374c>\u001b[0m in \u001b[0;36m<module>\u001b[0;34m()\u001b[0m\n\u001b[1;32m     15\u001b[0m \u001b[0mnoise\u001b[0m \u001b[0;34m=\u001b[0m \u001b[0;36m1e-2\u001b[0m\u001b[0;34m*\u001b[0m\u001b[0mnr\u001b[0m\u001b[0;34m.\u001b[0m\u001b[0mrandn\u001b[0m\u001b[0;34m(\u001b[0m\u001b[0mN\u001b[0m\u001b[0;34m)\u001b[0m\u001b[0;34m*\u001b[0m\u001b[0;36m0\u001b[0m\u001b[0;34m\u001b[0m\u001b[0m\n\u001b[1;32m     16\u001b[0m \u001b[0mprint\u001b[0m\u001b[0;34m(\u001b[0m\u001b[0mnoise\u001b[0m\u001b[0;34m)\u001b[0m\u001b[0;34m\u001b[0m\u001b[0m\n\u001b[0;32m---> 17\u001b[0;31m \u001b[0msample_values\u001b[0m \u001b[0;34m=\u001b[0m \u001b[0msampler\u001b[0m\u001b[0;34m.\u001b[0m\u001b[0mget_samples\u001b[0m\u001b[0;34m(\u001b[0m\u001b[0;34m)\u001b[0m \u001b[0;34m+\u001b[0m \u001b[0mnoise\u001b[0m\u001b[0;34m;\u001b[0m\u001b[0;34m\u001b[0m\u001b[0m\n\u001b[0m\u001b[1;32m     18\u001b[0m \u001b[0;31m# sampler = DeterministicSampler(polynomial,N)\u001b[0m\u001b[0;34m\u001b[0m\u001b[0;34m\u001b[0m\u001b[0m\n\u001b[1;32m     19\u001b[0m \u001b[0;31m# stem_results(sampler.get_positions(),sampler.get_samples(),'k',label=\"original\")\u001b[0m\u001b[0;34m\u001b[0m\u001b[0;34m\u001b[0m\u001b[0m\n",
      "\u001b[0;31mAttributeError\u001b[0m: 'GaussianSampler' object has no attribute 'get_samples'"
     ]
    },
    {
     "data": {
      "image/png": "[encoded data removed]",
      "text/plain": [
       "<matplotlib.figure.Figure at 0x11d697dd8>"
      ]
     },
     "metadata": {},
     "output_type": "display_data"
    }
   ],
   "source": [
    "from samplers import *\n",
    "from solvers import *\n",
    "from plots import  *\n",
    "from matplotlib import pylab\n",
    "from pylab import rcParams\n",
    "rcParams['figure.figsize'] = 5, 3\n",
    "\n",
    "pylab.ion()\n",
    "start_param = [6, -10, 5, 0.5]\n",
    "N = 2*(len(start_param))*2\n",
    "polynomial = FullSurfacePolynomial(start_param)\n",
    "plot_results(polynomial,'k',lw =1, label='polynomial')\n",
    "\n",
    "sampler = GaussianSampler(polynomial,N,1,0.04)\n",
    "noise = 1e-2*nr.randn(N)*0\n",
    "print(noise)\n",
    "sample_values = sampler.get_samples() + noise;\n",
    "# sampler = DeterministicSampler(polynomial,N)\n",
    "# stem_results(sampler.get_positions(),sampler.get_samples(),'k',label=\"original\")\n",
    "\n",
    "new_pos = FullSurfacePolynomial.shifted_positions(sampler.get_positions(),trace_param=[-0.5,0.1])\n",
    "stem_results(new_pos,sample_values,'w',label=\"start. positions\")\n",
    "\n",
    "solver = ConstrainedALS(\n",
    "    sample_values,\n",
    "    polynomial.model_size,\n",
    "    FullSurfacePolynomial,\n",
    "    start_pos=new_pos,\n",
    "    stopping_error=1e-16,\n",
    "    beta=0.1,\n",
    "    show_plots = False\n",
    "    )\n",
    "solver.solve()\n",
    "\n",
    "# print solver.train_error\n",
    "# print polynomial.square_error(SignalPolynomial(solver.parameter_estimate))\n",
    "pylab.ioff()\n",
    "# plot_results(SignalPolynomial(solver.parameter_estimate),'r',lw = 3)\n",
    "stem_results(solver.get_position_estimates(),solver.get_samples(),'g',label=\"positions found\")\n",
    "print(solver.parameter_estimate)\n",
    "polynomial = FullSurfacePolynomial(solver.parameter_estimate)\n",
    "plot_results(polynomial,'g',lw =1, label='recovered')\n",
    "\n",
    "pylab.title(\"with scaling\", fontsize=10)\n",
    "pylab.xlabel(r'$t$',fontsize=15)\n",
    "pylab.legend(loc=\"lower right\", fontsize=10)\n",
    "pylab.gcf().subplots_adjust(bottom=0.15)\n",
    "pylab.show()"
   ]
  },
  {
   "cell_type": "code",
   "execution_count": 38,
   "metadata": {
    "collapsed": false
   },
   "outputs": [
    {
     "name": "stdout",
     "output_type": "stream",
     "text": [
      "[0.0, 0.14285714285714285, 0.2857142857142857, 0.42857142857142855, 0.5714285714285714, 0.71428571428571419, 0.8571428571428571, 1.0]\n",
      "error small enough after fitting parameters\n",
      "[-0.59999999  1.          1.        ]\n"
     ]
    },
    {
     "data": {
      "image/png": "[encoded data removed]",
      "text/plain": [
       "<matplotlib.figure.Figure at 0x11c6ef390>"
      ]
     },
     "metadata": {},
     "output_type": "display_data"
    }
   ],
   "source": [
    "from samplers import *\n",
    "from solvers import *\n",
    "from plots import  *\n",
    "from matplotlib import pylab\n",
    "from pylab import rcParams\n",
    "rcParams['figure.figsize'] = 5, 3\n",
    "\n",
    "pylab.ion()\n",
    "start_param = [6, -10, 5, 0.5]\n",
    "N = 2*(len(start_param))\n",
    "polynomial = SecondSurfacePolynomial(start_param)\n",
    "plot_results(polynomial,'k',lw=1, label='polynomial')\n",
    "f = 1.0\n",
    "b = 1\n",
    "sampler = SurfaceSampler(polynomial,N,[-0.6,b,f], interval_length=1, sigma=0.0)\n",
    "# noise = 1e-2*nr.randn(N)\n",
    "sample_values = sampler.sample_values; \n",
    "\n",
    "start_pos = SecondSurfacePolynomial.shifted_positions(sampler.sample_positions,trace_param=[0,1,f])\n",
    "print(start_pos)\n",
    "stem_results(start_pos,sample_values,'k',label=\"start. positions\")\n",
    "\n",
    "solver = ConstrainedALS(\n",
    "    sample_values,\n",
    "    polynomial.model_size,\n",
    "    SecondSurfacePolynomial,\n",
    "    start_pos=sampler.sample_positions,\n",
    "    stopping_error=1e-10,\n",
    "    beta=1,\n",
    "    show_plots=False,\n",
    "    max_iter=10000,\n",
    "    fl=f\n",
    "    )\n",
    "solver.solve()\n",
    "\n",
    "# print solver.train_error\n",
    "\n",
    "# print polynomial.square_error(SignalPolynomial(solver.parameter_estimate))\n",
    "pylab.ioff()\n",
    "# plot_results(SignalPolynomial(solver.parameter_estimate),'r',lw = 3)\n",
    "stem_results(solver.get_position_estimates(),solver.get_samples(),'g',label=\"positions found\")\n",
    "print(solver.tr_param)\n",
    "polynomial = FullSurfacePolynomial(solver.parameter_estimate)\n",
    "plot_results(polynomial,'g',lw =1, label='recovered')\n",
    "\n",
    "pylab.title(\"initialised with correct scale\", fontsize=10)\n",
    "pylab.xlabel(r'$t$',fontsize=10)\n",
    "pylab.legend(loc=\"lower right\", fontsize=10)\n",
    "pylab.gcf().subplots_adjust(bottom=0.15)\n",
    "pylab.show()"
   ]
  },
  {
   "cell_type": "code",
   "execution_count": 26,
   "metadata": {
    "collapsed": false
   },
   "outputs": [
    {
     "name": "stdout",
     "output_type": "stream",
     "text": [
      "[[ 0.          0.14285714  0.28571429  0.42857143  0.57142857  0.71428571\n",
      "   0.85714286  1.        ]\n",
      " [ 0.          0.14277236  0.2853728   0.42780166  0.57005922  0.7121458\n",
      "   0.85406171  0.99580726]\n",
      " [ 0.          0.14269158  0.28504286  0.42705506  0.56872937  0.71006701\n",
      "   0.85106917  0.99173705]\n",
      " [ 0.          0.14261464  0.28472395  0.42633061  0.56743728  0.7080466\n",
      "   0.8481612   0.98778369]\n",
      " [ 0.          0.14254136  0.28441558  0.42562736  0.5661813   0.70608201\n",
      "   0.84533402  0.98394183]]\n"
     ]
    }
   ],
   "source": [
    "pe = np.array(solver.illustration)\n",
    "print(pe)"
   ]
  },
  {
   "cell_type": "code",
   "execution_count": null,
   "metadata": {
    "collapsed": true
   },
   "outputs": [],
   "source": []
  }
 ],
 "metadata": {
  "anaconda-cloud": {},
  "kernelspec": {
   "display_name": "Python 3",
   "language": "python",
   "name": "python3"
  },
  "language_info": {
   "codemirror_mode": {
    "name": "ipython",
    "version": 3
   },
   "file_extension": ".py",
   "mimetype": "text/x-python",
   "name": "python",
   "nbconvert_exporter": "python",
   "pygments_lexer": "ipython3",
   "version": "3.6.0"
  }
 },
 "nbformat": 4,
 "nbformat_minor": 0
}
